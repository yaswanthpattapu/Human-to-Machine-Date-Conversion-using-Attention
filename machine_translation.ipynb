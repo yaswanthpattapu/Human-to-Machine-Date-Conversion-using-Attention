{
 "cells": [
  {
   "cell_type": "code",
   "execution_count": 6,
   "metadata": {},
   "outputs": [
    {
     "name": "stdout",
     "output_type": "stream",
     "text": [
      "               source         target\n",
      "0      'march 8 1758'   '1758-03-08'\n",
      "1  '17 february 1709'   '1709-02-17'\n",
      "2       '13 may 1786'   '1786-05-13'\n",
      "3      '17 june 1626'   '1626-06-17'\n",
      "4      'july 25 1851'   '1851-07-25'\n"
     ]
    }
   ],
   "source": [
    "#import the text file\n",
    "import pandas as pd\n",
    "\n",
    "#read the text file with no header\n",
    "df = pd.read_csv('datasets/Assignment2_train.txt', header=None)\n",
    "\n",
    "#add the column names\n",
    "df.columns = ['source', 'target']\n",
    "\n",
    "print(df.head())"
   ]
  },
  {
   "cell_type": "code",
   "execution_count": null,
   "metadata": {},
   "outputs": [],
   "source": [
    "#create dataset from df\n",
    "dataset = df.values.tolist()\n",
    "dataset = dataset"
   ]
  }
 ],
 "metadata": {
  "kernelspec": {
   "display_name": "Python 3",
   "language": "python",
   "name": "python3"
  },
  "language_info": {
   "codemirror_mode": {
    "name": "ipython",
    "version": 3
   },
   "file_extension": ".py",
   "mimetype": "text/x-python",
   "name": "python",
   "nbconvert_exporter": "python",
   "pygments_lexer": "ipython3",
   "version": "3.10.12"
  }
 },
 "nbformat": 4,
 "nbformat_minor": 2
}
